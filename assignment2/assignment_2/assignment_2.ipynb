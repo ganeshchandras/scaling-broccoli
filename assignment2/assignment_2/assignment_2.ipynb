{
 "cells": [
  {
   "cell_type": "markdown",
   "metadata": {},
   "source": [
    "# Neural Network\n",
    "***\n",
    "**Name: Ganesh Chandra Satish**: Collaborated with : Rahul Chowdhury\n",
    "***\n",
    "\n",
    "## Goal\n",
    "\n",
    "The goal of this assignment is to build a one-hidden-layer back propagation network to process real data.  For this assignment you will implement the neural net (activation function and training code) yourself, not using tensorflow or other deep learning frameworks. The purpose is for you to understand the nitty gritty of what these frameworks are doing for you before we switch over to using them."
   ]
  },
  {
   "cell_type": "markdown",
   "metadata": {},
   "source": [
    "## Data \n",
    "***\n",
    "\n",
    "In this assignment you will be using the Occupancy Detection data set (ODD). It consists of experimental data used for binary classification of room occupancy (i.e., room is occupied versus empty) based on temperature, humidity, light, and CO2 sensors. The train and test data sets are each collected over a week period.\n",
    "\n",
    "The data set includes time stamps with date and hour/minute/second within the day. You are **not to use time stamp features** for predicting occupancy. Since this is a commercial office building, the time stamp is a strong predictor of occupancy. Rather, the goal is to determine whether occupancy - **occ** can be sensed from:\n",
    "1. temperature, expressed in degrees Celsius - **temp**\n",
    "2. relative humidity, expressed as a % - **hum**\n",
    "3. light, in lux - **light**\n",
    "4. CO2, in ppm - **cdx**\n",
    "5. humidity ratio, which is derived from the temperature and the relative humidity - **hum_ratio**"
   ]
  },
  {
   "cell_type": "code",
   "execution_count": 297,
   "metadata": {
    "collapsed": true
   },
   "outputs": [],
   "source": [
    "import numpy as np\n",
    "import pandas as pd\n",
    "import pickle\n",
    "from sklearn.model_selection import train_test_split\n",
    "from sklearn.utils import shuffle"
   ]
  },
  {
   "cell_type": "code",
   "execution_count": 428,
   "metadata": {
    "collapsed": true
   },
   "outputs": [],
   "source": [
    "data = pd.read_csv('data/datatraining.txt')\n",
    "X = data[['date', 'Humidity', 'Light', 'CO2', 'HumidityRatio', 'Temperature']].values\n",
    "y = data['Occupancy'].values\n",
    "\n",
    "X_train, X_test, y_train, y_test = train_test_split(X, y, test_size=0.1)"
   ]
  },
  {
   "cell_type": "code",
   "execution_count": 396,
   "metadata": {},
   "outputs": [
    {
     "data": {
      "text/plain": [
       "'2015-02-05 00:43:59'"
      ]
     },
     "execution_count": 396,
     "metadata": {},
     "output_type": "execute_result"
    }
   ],
   "source": [
    "X_test[0][0]"
   ]
  },
  {
   "cell_type": "markdown",
   "metadata": {},
   "source": [
    "### 1. Perceptron\n",
    "***\n",
    "\n",
    "Using the perceptron code you wrote for Assignment 1, train a perceptron (linear activation function with a binary threshold) using the training set. Your perceptron should have the 5 input variables described above.\n",
    "\n",
    "**Part A**: Report the training and test set performance in terms of % examples classified correctly.\n",
    "\n",
    "**NOTE**: The Perceptron Update Rule is guaranteed to converge only if there is a setting of the weights that will classify the training set perfectly.  (The learning rule minimizes mistakes. When all examples are classified correctly, the weights stop changing.)  With a noisy data set like this one, the algorithm will not find an exact solution.  Also remember that the perceptron algorithm is not performing gradient descent. Instead, it will jitter around the ideal solution continually changing the weights from one iteration to the next. The weight changes will have a small effect on performance, so you'll see training set performance jitter a bit as well."
   ]
  },
  {
   "cell_type": "code",
   "execution_count": 299,
   "metadata": {},
   "outputs": [],
   "source": [
    "def perceptron_update(X, y, w, lr):\n",
    "    bias = np.ones((X.shape[0], 1))\n",
    "    XplusB = np.concatenate((X, bias), axis=1)\n",
    "    w1,w2,w3,w4,w5,b = w[0],w[1],w[2],w[3],w[4],w[5]\n",
    "    \n",
    "    incorrect = []\n",
    "    for i in range(len(XplusB)):\n",
    "        ytemp = np.dot([w1,w2,w3,w4,w5,b],XplusB[i].T)\n",
    "        yhat = 0\n",
    "        if ytemp > 0:\n",
    "            yhat = 1\n",
    "        err = (yhat - y[i])\n",
    "        if err != 0:\n",
    "            incorrect.append([XplusB[i][0],XplusB[i][1]])\n",
    "        b = b - (lr * err)\n",
    "        w1 = w1 - (lr * err * XplusB[i][0])\n",
    "        w2 = w2 - (lr * err * XplusB[i][1])\n",
    "        w3 = w3 - (lr * err * XplusB[i][2])\n",
    "        w4 = w4 - (lr * err * XplusB[i][3])\n",
    "        w5 = w5 - (lr * err * XplusB[i][4])\n",
    "    return ([w1,w2,w3,w4,w5,b],incorrect)\n",
    "\n",
    "def perceptron(X, y, maxIter, alpha):\n",
    "    w = [0,0,0,0,0,0]\n",
    "    incorrect = []\n",
    "    it = maxIter\n",
    "    for i in range(maxIter):\n",
    "        temp = perceptron_update(X, y, w, alpha)\n",
    "        w = temp[0]\n",
    "        incorrect = temp[1]\n",
    "    return (w,incorrect,it)\n",
    "\n",
    "#w, n, i = perceptron(X_train[:,1:], y_train, 100, 0.001)\n",
    "\n",
    "#print(w)\n",
    "#print(n)\n",
    "#print(i)"
   ]
  },
  {
   "cell_type": "code",
   "execution_count": 300,
   "metadata": {
    "collapsed": true
   },
   "outputs": [],
   "source": [
    "def classify(X, y, w):\n",
    "    \"\"\"\n",
    "    Use this function to classify examples in the test set\n",
    "    \n",
    "    Parameters\n",
    "    ----------\n",
    "    X : Test set features\n",
    "    y : Test set labels\n",
    "    w : Perceptron coefficients\n",
    "    \n",
    "    Returns\n",
    "    -------\n",
    "    correct : number of correctly classified examples\n",
    "    \"\"\"\n",
    "    #train_data_size = 5\n",
    "    correct = 0\n",
    "    bias = np.ones((X.shape[0], 1))\n",
    "    XplusB = np.concatenate((X, bias), axis=1)\n",
    "    for i in range(len(XplusB)):\n",
    "        ytemp = np.dot(w,XplusB[i].T)\n",
    "        yhat = 0\n",
    "        if ytemp >= 0:\n",
    "            yhat = 1\n",
    "        \n",
    "        if yhat == y[i]:\n",
    "            correct += 1\n",
    "    return correct"
   ]
  },
  {
   "cell_type": "code",
   "execution_count": 309,
   "metadata": {
    "collapsed": true
   },
   "outputs": [],
   "source": [
    "def train75():   \n",
    "    #X_train, X_test, y_train, y_test\n",
    "    ans = perceptron(X_train[:,1:], y_train, 100, 0.001)\n",
    "    w = ans[0]\n",
    "    cor = classify(X_test[:,1:], y_test, w)\n",
    "    return cor"
   ]
  },
  {
   "cell_type": "code",
   "execution_count": 310,
   "metadata": {},
   "outputs": [
    {
     "name": "stdout",
     "output_type": "stream",
     "text": [
      "0.9865030674846625\n"
     ]
    }
   ],
   "source": [
    "acc = train75() / len(y_test)\n",
    "print(acc)"
   ]
  },
  {
   "cell_type": "markdown",
   "metadata": {},
   "source": [
    "#### The accuracy is 98.65%"
   ]
  },
  {
   "cell_type": "markdown",
   "metadata": {},
   "source": [
    "### 2. 1-layer feedforward neural net\n",
    "***\n",
    "\n",
    "In this part, you will implement a 1-layer feedforward neural network from scratch as shown in the figure below.\n",
    "<img src=\"./res/mlp_ann.png\" alt=\"mlp_ann\" style=\"width:500px;\"/>\n",
    "Your tasks are as follows:"
   ]
  },
  {
   "cell_type": "markdown",
   "metadata": {},
   "source": [
    "**PART 2.A**\n",
    "\n",
    "1. Implement `sigmoid(x)`: In this assignment, we will be using the sigmoid activation function as the non-linearity.\n",
    "2. Implement `forward(x)` which calculates the activations at layer 1, 2 and 3 (stored in variables `_a01`, `_a12`, `_a23` respectively) and returns the final layer activations.\n",
    "3. Implement `backward(y, y_hat)` such that it returns layer 1 and layer 2 gradients using the mean squared loss between the predicted and groundtruth vectors.\n",
    "4. Implement `update(l1_grad, l2_grad)` function which will update the weights and biases stored in `_W1, _W2 and _b1, _b2`.\n",
    "5. Implement`train(X, y, epochs)`.\n",
    "6. Implement `predict(X)` to return one-hot encoded representation of the `_a23` layer activation."
   ]
  },
  {
   "cell_type": "code",
   "execution_count": 367,
   "metadata": {},
   "outputs": [],
   "source": [
    "\n",
    "rndg = np.random.RandomState(seed=0)\n",
    "\n",
    "class MLP(object):\n",
    "    \"\"\"\n",
    "        -- Skeleton Code for a Multi-Layer Perceptron Neural Net.\n",
    "           Network has 1 input layer followed by a hidden layer and\n",
    "           an output layer. \n",
    "        \n",
    "    \"\"\"\n",
    "    def __init__(self, n_vis=5, n_hid=10, n_out=1, batch_size=7, lr=0.1):\n",
    "        \"\"\"\n",
    "            Initialize an MLP object.\n",
    "            \n",
    "            params\n",
    "            \n",
    "            n_vis (int): # of neurons in input layer.\n",
    "            n_hid (int): # of neurons in hidden layer.\n",
    "            n_out (int): # number of neurons in final output layer.\n",
    "            batch_size (int): # number of X,y instances in a mini-batch.\n",
    "            lr (double): learning rate/step size.\n",
    "\n",
    "            class variables:\n",
    "            \n",
    "            _W1, _b1 (np.ndarray): \n",
    "                Weights and biases of the input layer respectively.\n",
    "            \n",
    "            _W2, _b2 (np.ndarray):\n",
    "                Weights and biases of the hidden layer respectively.\n",
    "            \n",
    "            _a01, _a12, _a23 (np.ndarray or None):\n",
    "                Activations from input, hidden and output layer respectively.  \n",
    "        \"\"\"\n",
    "        self._n_vis = n_vis\n",
    "        self._n_hid = n_hid\n",
    "        self._n_out = n_out\n",
    "        \n",
    "        self._W1 = rndg.normal(size=(self._n_hid, self._n_vis))\n",
    "        self._b1 = np.ones((self._n_hid, 1))\n",
    "\n",
    "        self._W2 = rndg.normal(size=(self._n_out, self._n_hid))\n",
    "        self._b2 = np.ones((self._n_out, 1))\n",
    "\n",
    "        self._a01 = None\n",
    "        self._a12 = None\n",
    "        self._a23 = None\n",
    "        \n",
    "        self.batch_size = batch_size\n",
    "        self.lr = lr\n",
    "\n",
    "    def sigmoid(self, X):\n",
    "        \"\"\"\n",
    "            Sigmoid Logistic Function.\n",
    "            \n",
    "            params:\n",
    "            \n",
    "            X (np.ndarray)\n",
    "            \n",
    "            return:\n",
    "            \n",
    "            result (np.ndarray): result = f(X) \n",
    "                where f is the sigmoid function.\n",
    "            \n",
    "        \"\"\"\n",
    "        X = X.astype(np.float128)\n",
    "        #print(X[0])\n",
    "        sig = 1 / (1 + np.exp(-X))\n",
    "        return sig\n",
    "        \n",
    "\n",
    "    def forward(self, X):\n",
    "        \"\"\"\n",
    "            Feed forward an input through each \n",
    "            of the layers of network.\n",
    "            \n",
    "            Store each layer activation in the class \n",
    "            variables defined in the constructor. You'll\n",
    "            need them later during backpropogation.\n",
    "            \n",
    "            params:\n",
    "            \n",
    "            X (np.ndarray): batch_size x 5 dimensional array\n",
    "            \n",
    "            return:\n",
    "            \n",
    "            y_hat (np.ndarray): 1 x batch_size dimensional array\n",
    "                representing final layer outputs.\n",
    "            \n",
    "        \"\"\"\n",
    "        self._a01 = X.T\n",
    "        self._a12 = self.sigmoid(np.dot(self._W1, self._a01) + self._b1)\n",
    "        #print(self._W2.shape,self._a12.shape,self._b2.shape)\n",
    "        self._a23 = self.sigmoid(np.dot(self._W2, self._a12) + self._b2)\n",
    "        return self._a23\n",
    "    \n",
    "    def sigmoid_derivative(self,p):\n",
    "        return p * (1 - p)\n",
    "    \n",
    "    def sigmoid_prime(self, X):\n",
    "        #derivative of sigmoid\n",
    "        return np.multiply(self.sigmoid(X),(1 - self.sigmoid(X)))\n",
    "\n",
    "    def backward(self, y, y_hat):\n",
    "        \n",
    "        \"\"\"\n",
    "            Implement the backpropogation algorithm.\n",
    "            Assume mean squared loss at the output.\n",
    "            \n",
    "            params:\n",
    "            \n",
    "            y (np.ndarray): batch_size x 1 dimensional vector\n",
    "                of grounf truth labels.\n",
    "            y_hat (np.nd_array): 1 x 7 dimensional vector\n",
    "                of predicted lables from forward().\n",
    "            \n",
    "            return:\n",
    "            \n",
    "            l1_grad (np.ndarray): 1 x n_hid dimensional array\n",
    "                representing gradients for input layer.\n",
    "                \n",
    "            l2_grad (np.ndarray): n_hid x n_vis dimensional array\n",
    "                representing gradients for hidden layer.\n",
    "            \n",
    "        \"\"\"\n",
    "        x = (self._a23 - y) * self._a23 * (1 - self._a23)\n",
    "        y2 = self._a12\n",
    "        y = self._W2\n",
    "        z = self._a12 * (1 - self._a12)\n",
    "        b = self._a01\n",
    "        #print(np.sum(x))\n",
    "        l2_grad = ((1/self.batch_size) * (np.dot(x,y2.T)),(1/self.batch_size) * np.sum(x))\n",
    "        #l1_grad = ((1/self.batch_size) * (np.dot((z * b),np.dot(x.T,y))), (1/self.batch_size) * (y * np.dot(x,z.T)).T)\n",
    "        l1_grad = ((1/self.batch_size) * (np.dot((np.dot(y.T,x) * z),b.T)),(1/self.batch_size) * (y * np.dot(x,z.T)).T)\n",
    "        \n",
    "        \n",
    "        return (l1_grad,l2_grad)\n",
    "               \n",
    "    def update(self, l1_grad, l2_grad):\n",
    "        \"\"\"\n",
    "            Implement the update rule for network weights and biases.\n",
    "            \n",
    "            params:\n",
    "            \n",
    "            l1_grad (np.ndarray): gradients for input layer.\n",
    "            l2_grad (np.ndarray): gradients for hidden layer.\n",
    "            \n",
    "            return:\n",
    "            \n",
    "            none.\n",
    "        \"\"\"\n",
    "        #print(self._W1.shape,l1_grad[0].shape,(self.lr * l1_grad[0]).shape)\n",
    "        #self._W1 = self._W1 + (self.lr * np.sum(l1_grad[0],axis=1).reshape(-1,1))\n",
    "        #self._W2 = self._W2 + (self.lr * np.sum(l2_grad[0]))\n",
    "        #self._b1 = self._b1 + (self.lr * np.sum(l1_grad[1],axis=1).reshape(-1,1))\n",
    "        #self._b2 = self._b2 + (self.lr * np.sum(l2_grad[1]))\n",
    "        self._W1 = self._W1 - (self.lr * l1_grad[0])\n",
    "        self._b1 = self._b1 - (self.lr * l1_grad[1])\n",
    "        self._W2 = self._W2 - (self.lr * l2_grad[0])\n",
    "        self._b2 = self._b2 - (self.lr * l2_grad[1])\n",
    "        '''self._W1 += l1_grad\n",
    "        self._W2 += l2_grad'''\n",
    "        \n",
    "    def predict(self, X, threshold = 0.5):\n",
    "        \"\"\"\n",
    "            Returns one hot encoding of vector X using 0.5\n",
    "            as the threshold.\n",
    "            \n",
    "            params:\n",
    "            \n",
    "            X (np.ndarray): predictions/activations of the output layer.\n",
    "            \n",
    "            return:\n",
    "            \n",
    "            y (np.ndarray): one hot encoding of output layer.\n",
    "        \"\"\"\n",
    "        out = self.forward(X)[0]\n",
    "        out_ans = []\n",
    "        for i in range(len(out)):\n",
    "            if out[i] >= threshold:\n",
    "                out_ans.append(1)\n",
    "            else:\n",
    "                out_ans.append(0)\n",
    "        return np.array(out_ans)\n",
    "    \n",
    "    def train(self, X, y, epochs):\n",
    "        \"\"\"\n",
    "            Implement the train loop for n epochs.\n",
    "            In each epoch do the following:\n",
    "            1. Shuffle the dataset.\n",
    "            2. create self.batch_size sized-mini-batches of the dataset.\n",
    "            3. get network predictions using forward().\n",
    "            4. calculate the gradients using backward().\n",
    "            5. update the network weights using update().\n",
    "            6. Repeat 1-5 until convergence.\n",
    "            \n",
    "            params:\n",
    "            \n",
    "            X (np.ndarray): N x 5 dimensional ndarray of inputs.\n",
    "            y (np.ndarray): N x 1 dimensional array of true labels.\n",
    "            epochs (int): # of epochs to train the network for. \n",
    "            \n",
    "            return:\n",
    "            \n",
    "            none.\n",
    "        \"\"\"\n",
    "        it = len(X)\n",
    "        for i in range(epochs):\n",
    "            X,y = shuffle(X,y)\n",
    "            for i in range(0, len(X) - self.batch_size, self.batch_size):\n",
    "                y_hat = self.forward(X[i:i + self.batch_size])\n",
    "                l1,l2 = self.backward(y[i:i + self.batch_size],y_hat)\n",
    "                self.update(l1, l2)\n",
    "                \n",
    "            \n",
    "    def test(self, X_test, y_test):\n",
    "        \"\"\"\n",
    "            Implement the test function which reports accuracy of \n",
    "            the model on the test set X_test against the true labels\n",
    "            y_test.\n",
    "            \n",
    "            You may re-use the predict and accuracy functions defined above.\n",
    "            \n",
    "            params:\n",
    "            \n",
    "            X_test (np.ndarray): N x M dimensional array where M is the \n",
    "                number of attributes considered for training the model.\n",
    "            y_test (np.ndarray): N x 1 dimensional array.\n",
    "            \n",
    "            return:\n",
    "            \n",
    "            accuracy (double): accuracy of the predicted labels against the \n",
    "                groundtruth labels.\n",
    "        \"\"\"\n",
    "        out_ans = self.predict(X_test)\n",
    "        return self.accuracy(y_test,out_ans)\n",
    "        \n",
    "    \n",
    "    @classmethod\n",
    "    def accuracy(self, y, y_hat):\n",
    "        len_ = y.flatten().shape[0]\n",
    "        return np.sum(y.flatten() == y_hat.flatten())/len_"
   ]
  },
  {
   "cell_type": "markdown",
   "metadata": {},
   "source": [
    "#### If the test cases fail for assertion it is because I have used the dtype as float128 in the sigmoid fuction as the value returned is a little less than the value being compared in the test case. Such as 3.4999999999999999 instead of 3.5. As assertEqual has been used to compare both the values, the assertion is failing. If you can comment the line in sigmoid function that changes the dtype to float128, then all the test cases will pass."
   ]
  },
  {
   "cell_type": "code",
   "execution_count": 359,
   "metadata": {
    "scrolled": true
   },
   "outputs": [
    {
     "name": "stderr",
     "output_type": "stream",
     "text": [
      "...\n",
      "----------------------------------------------------------------------\n",
      "Ran 3 tests in 1.089s\n",
      "\n",
      "OK\n"
     ]
    },
    {
     "data": {
      "text/plain": [
       "<unittest.runner.TextTestResult run=3 errors=0 failures=0>"
      ]
     },
     "execution_count": 359,
     "metadata": {},
     "output_type": "execute_result"
    }
   ],
   "source": [
    "import unittest\n",
    "from sklearn.datasets import make_classification\n",
    "\n",
    "def load_params(path, model):\n",
    "    \n",
    "    params = pickle.load(open(path, 'rb'))\n",
    "    for key in params:\n",
    "        model.__dict__[key] = params[key]\n",
    "\n",
    "class TestMLP(unittest.TestCase):\n",
    "    def setUp(self):\n",
    "        \n",
    "        self.net = MLP()\n",
    "        self.pre_trained_model = load_params(\"./res/mlp.pkl\", self.net)\n",
    "        self.X = np.load(\"./res/x.npy\")\n",
    "        self.y = np.load(\"./res/y.npy\")\n",
    "        self.p = np.load(\"./res/p.npy\")\n",
    "        self.sigX = np.asarray([-1, -2, -3, 0, 1, 2, 3])\n",
    "    \n",
    "    def test_forward(self):\n",
    "        self.assertEqual(np.sum(self.net.forward(self.X[901:])), np.sum(self.p))\n",
    "    \n",
    "    def test_train(self):\n",
    "        x, y = make_classification(\n",
    "            n_samples=1000,\n",
    "            n_features=5,\n",
    "            n_redundant=0,\n",
    "            random_state=rndg\n",
    "        )\n",
    "        net = MLP(5, 5, 1, 7, 0.01)\n",
    "        net.train(self.X[:900], self.y[:900], 100)\n",
    "        self.assertTrue(net.accuracy(net.predict(self.X[901:]), self.y[901:]) > 0.88)\n",
    "    \n",
    "    def test_sigmoid(self):\n",
    "        self.assertEqual(\n",
    "            np.sum(self.net.sigmoid(self.sigX)), 3.5\n",
    "        )\n",
    "        \n",
    "suite = unittest.TestLoader().loadTestsFromTestCase(TestMLP)\n",
    "unittest.TextTestRunner().run(suite)"
   ]
  },
  {
   "cell_type": "markdown",
   "metadata": {},
   "source": [
    "**PART 2.B**\n",
    "\n",
    "Report the baseline performance of the untrained MLP that you built in **PART 2.A** using the selected values. To calculate the baseline score, feed-forward entire test set through the test function. The test function will return a set of predictions. Calculate the accuracy of these predictions against ground truth training lables.  \n",
    "Report:\n",
    "1. accuracy"
   ]
  },
  {
   "cell_type": "code",
   "execution_count": 373,
   "metadata": {},
   "outputs": [
    {
     "data": {
      "text/plain": [
       "0.2233128834355828"
      ]
     },
     "execution_count": 373,
     "metadata": {},
     "output_type": "execute_result"
    }
   ],
   "source": [
    "obj = MLP()\n",
    "obj.test(X_test[:,1:],y_test)"
   ]
  },
  {
   "cell_type": "markdown",
   "metadata": {},
   "source": [
    "**PART 2.C**\n",
    "\n",
    "Select a learning rate, batch size and train the network for 100 epochs. After each epoch plot a graph of netowrk's accuracy on the test data. On the same graph, plot a constant horizontal line of the baseline score that you reported in **PART 2.B**.  \n",
    "\n",
    "Report:\n",
    "1. learning rate\n",
    "2. batch size"
   ]
  },
  {
   "cell_type": "code",
   "execution_count": 380,
   "metadata": {},
   "outputs": [
    {
     "name": "stdout",
     "output_type": "stream",
     "text": [
      "0.2233128834355828\n",
      "0.7766871165644171\n",
      "0.2233128834355828\n",
      "0.2233128834355828\n",
      "0.7754601226993865\n",
      "0.7754601226993865\n",
      "0.9226993865030675\n",
      "0.7766871165644171\n",
      "0.9484662576687116\n",
      "0.7754601226993865\n",
      "0.7828220858895706\n",
      "0.9300613496932515\n",
      "0.7791411042944786\n",
      "0.9104294478527607\n",
      "0.7766871165644171\n",
      "0.2233128834355828\n",
      "0.9079754601226994\n",
      "0.7766871165644171\n",
      "0.7926380368098159\n",
      "0.9386503067484663\n",
      "0.9423312883435583\n",
      "0.2233128834355828\n",
      "0.9202453987730062\n",
      "0.9337423312883436\n",
      "0.9828220858895705\n",
      "0.7766871165644171\n",
      "0.7766871165644171\n",
      "0.7766871165644171\n",
      "0.7766871165644171\n",
      "0.9276073619631902\n",
      "0.7766871165644171\n",
      "0.7766871165644171\n",
      "0.7766871165644171\n",
      "0.7766871165644171\n",
      "0.7754601226993865\n",
      "0.9374233128834356\n",
      "0.947239263803681\n",
      "0.9546012269938651\n",
      "0.7766871165644171\n",
      "0.2233128834355828\n",
      "0.7754601226993865\n",
      "0.9312883435582822\n",
      "0.7766871165644171\n",
      "0.7766871165644171\n",
      "0.7815950920245399\n",
      "0.7766871165644171\n",
      "0.7754601226993865\n",
      "0.7766871165644171\n",
      "0.9165644171779141\n",
      "0.9239263803680982\n",
      "0.8392638036809816\n",
      "0.7766871165644171\n",
      "0.7766871165644171\n",
      "0.9251533742331288\n",
      "0.7766871165644171\n",
      "0.7766871165644171\n",
      "0.7766871165644171\n",
      "0.9263803680981595\n",
      "0.9251533742331288\n",
      "0.9263803680981595\n",
      "0.9361963190184049\n",
      "0.9423312883435583\n",
      "0.9226993865030675\n",
      "0.9251533742331288\n",
      "0.7766871165644171\n",
      "0.7766871165644171\n",
      "0.7766871165644171\n",
      "0.7754601226993865\n",
      "0.939877300613497\n",
      "0.7766871165644171\n",
      "0.9288343558282208\n",
      "0.9374233128834356\n",
      "0.7766871165644171\n",
      "0.9374233128834356\n",
      "0.9423312883435583\n",
      "0.9276073619631902\n",
      "0.9374233128834356\n",
      "0.947239263803681\n",
      "0.7754601226993865\n",
      "0.7754601226993865\n",
      "0.7766871165644171\n",
      "0.7766871165644171\n",
      "0.9361963190184049\n",
      "0.9226993865030675\n",
      "0.7766871165644171\n",
      "0.7754601226993865\n",
      "0.9276073619631902\n",
      "0.9226993865030675\n",
      "0.9226993865030675\n",
      "0.9030674846625767\n",
      "0.7766871165644171\n",
      "0.7766871165644171\n",
      "0.9226993865030675\n",
      "0.939877300613497\n",
      "0.9447852760736196\n",
      "0.939877300613497\n",
      "0.9226993865030675\n",
      "0.7766871165644171\n",
      "0.9165644171779141\n",
      "0.9239263803680982\n"
     ]
    }
   ],
   "source": [
    "accu1 = {}\n",
    "for i in range(1,101):\n",
    "    obj1 = MLP(5, 10, 1, 10, 0.001)\n",
    "    obj1.train(X_train[:,1:], y_train, i)\n",
    "    accu1[i] = obj1.test(X_test[:,1:],y_test)\n",
    "    print(accu1[i])"
   ]
  },
  {
   "cell_type": "code",
   "execution_count": 437,
   "metadata": {},
   "outputs": [
    {
     "data": {
      "image/png": "[encoded data removed]",
      "text/plain": [
       "<matplotlib.figure.Figure at 0x116c88828>"
      ]
     },
     "metadata": {},
     "output_type": "display_data"
    }
   ],
   "source": [
    "import matplotlib\n",
    "from matplotlib import pyplot as plt\n",
    "matplotlib.rc('figure', figsize = (14, 7))\n",
    "def plot(acc):\n",
    "    li = [0.2233128834355828] * 100\n",
    "    x = []\n",
    "    for k,v in acc.items():\n",
    "        x.append(v)\n",
    "    plt.plot(li)\n",
    "    plt.plot(x)\n",
    "    plt.title(\"Accuracy vs Epochs For lr of 0.001 and batch size of 10\")\n",
    "    plt.xlabel(\"Epochs\")\n",
    "    plt.ylabel(\"Accuracy\")\n",
    "    plt.legend(['Untrained MLP', 'Trained MLP'], loc='upper right')\n",
    "    plt.show()\n",
    "plot(accu1)"
   ]
  },
  {
   "cell_type": "markdown",
   "metadata": {},
   "source": [
    "**PART 2.D**\n",
    "\n",
    "Now train nets with varying size of the hidden layer $H={1, 2, 5, 10..}$ for max epochs = 100. Make a plot of the nets' accuracy on test set as a function of $H$."
   ]
  },
  {
   "cell_type": "code",
   "execution_count": 378,
   "metadata": {},
   "outputs": [
    {
     "name": "stdout",
     "output_type": "stream",
     "text": [
      "0.7766871165644171\n",
      "0.7766871165644171\n",
      "0.9214723926380368\n",
      "0.9288343558282208\n"
     ]
    }
   ],
   "source": [
    "accu = []\n",
    "h = [1,2,5,10]\n",
    "for i in h:\n",
    "    obj1 = MLP(5, i, 1, 10, 0.001)\n",
    "    obj1.train(X_train[:,1:], y_train, 100)\n",
    "    accu.append(obj1.test(X_test[:,1:],y_test))\n",
    "    print(accu[-1])"
   ]
  },
  {
   "cell_type": "code",
   "execution_count": 441,
   "metadata": {},
   "outputs": [
    {
     "data": {
      "image/png": "[encoded data removed]",
      "text/plain": [
       "<matplotlib.figure.Figure at 0x1134dd048>"
      ]
     },
     "metadata": {},
     "output_type": "display_data"
    }
   ],
   "source": [
    "def plot1(acc):\n",
    "    plt.plot([1,2,5,10],acc)\n",
    "    plt.title(\"Accuracy vs Hidden layers For lr of 0.001 and batch size of 10\")\n",
    "    plt.xlabel(\"Number of Hidden Layers\")\n",
    "    plt.ylabel(\"Accuracy\")\n",
    "    #plt.legend(['Untrained MLP', 'Trained MLP'], loc='upper right')\n",
    "    plt.show()\n",
    "plot1(accu)"
   ]
  },
  {
   "cell_type": "markdown",
   "metadata": {},
   "source": [
    "### 3. Extra Credit"
   ]
  },
  {
   "cell_type": "markdown",
   "metadata": {},
   "source": [
    "See how much adding information about time of day helps the network. Add a new set of inputs that represent the time of day. (Don't add information about day of week or absolute date.)  \n",
    "\n",
    "\n",
    "**PART 3.A**  \n",
    "\n",
    "Determine an appropriate representation for the time of day. Describe the representation you used. For example, you might add one unit with a value ranging from 0 to 1 for times ranging from 00:00 to 23:59. Report the representation you selected.\n"
   ]
  },
  {
   "cell_type": "code",
   "execution_count": 429,
   "metadata": {},
   "outputs": [],
   "source": [
    "### Part 3.A\n",
    "hr = []\n",
    "for i in range(len(X_train)):\n",
    "    hr.append(int(X_train[i][0].split(\" \")[1].split(\":\")[0]))\n",
    "X_train = np.column_stack((X_train,hr))"
   ]
  },
  {
   "cell_type": "code",
   "execution_count": 430,
   "metadata": {},
   "outputs": [],
   "source": [
    "hr = []\n",
    "for i in range(len(X_test)):\n",
    "    hr.append(int(X_test[i][0].split(\" \")[1].split(\":\")[0]))\n",
    "X_test = np.column_stack((X_test,hr))"
   ]
  },
  {
   "cell_type": "code",
   "execution_count": 431,
   "metadata": {},
   "outputs": [
    {
     "data": {
      "text/plain": [
       "array(['2015-02-08 06:14:00', 31.6, 0.0, 437.5, 0.00434679691769094, 19.2,\n",
       "       6], dtype=object)"
      ]
     },
     "execution_count": 431,
     "metadata": {},
     "output_type": "execute_result"
    }
   ],
   "source": [
    "X_train[0]"
   ]
  },
  {
   "cell_type": "code",
   "execution_count": 432,
   "metadata": {},
   "outputs": [
    {
     "name": "stdout",
     "output_type": "stream",
     "text": [
      "0.9766871165644172\n"
     ]
    }
   ],
   "source": [
    "obj2 = MLP(6, 10, 1, 10, 0.001)\n",
    "obj2.train(X_train[:,1:], y_train, 100)\n",
    "n_accuracy = obj2.test(X_test[:,1:],y_test)\n",
    "print(n_accuracy)"
   ]
  },
  {
   "cell_type": "markdown",
   "metadata": {},
   "source": [
    "### I chose to input the hour of the time component as another feature and this caused the increase in accuracy to 97.67%."
   ]
  },
  {
   "cell_type": "markdown",
   "metadata": {},
   "source": [
    "**PART 3.B**  \n",
    "\n",
    "Train your net with $H=5$ hidden and compare training and test set performance to the net you built in (2e)"
   ]
  },
  {
   "cell_type": "code",
   "execution_count": 10,
   "metadata": {
    "collapsed": true
   },
   "outputs": [],
   "source": [
    "### Part 3.B"
   ]
  },
  {
   "cell_type": "code",
   "execution_count": 433,
   "metadata": {},
   "outputs": [],
   "source": [
    "accu2 = {}\n",
    "for i in range(1,101):\n",
    "    obj1 = MLP(6, 5, 1, 10, 0.001)\n",
    "    obj1.train(X_train[:,1:], y_train, i)\n",
    "    accu2[i] = obj1.test(X_test[:,1:],y_test)"
   ]
  },
  {
   "cell_type": "code",
   "execution_count": 435,
   "metadata": {},
   "outputs": [
    {
     "name": "stdout",
     "output_type": "stream",
     "text": [
      "{1: 0.8012269938650307, 2: 0.9190184049079755, 3: 0.9079754601226994, 4: 0.19877300613496932, 5: 0.19877300613496932, 6: 0.12147239263803682, 7: 0.19877300613496932, 8: 0.9411042944785276, 9: 0.8012269938650307, 10: 0.8012269938650307, 11: 0.9349693251533743, 12: 0.8012269938650307, 13: 0.19877300613496932, 14: 0.9239263803680982, 15: 0.8012269938650307, 16: 0.8012269938650307, 17: 0.8012269938650307, 18: 0.8012269938650307, 19: 0.8012269938650307, 20: 0.8159509202453987, 21: 0.9460122699386503, 22: 0.9521472392638037, 23: 0.9460122699386503, 24: 0.9153374233128835, 25: 0.9374233128834356, 26: 0.9484662576687116, 27: 0.8012269938650307, 28: 0.8012269938650307, 29: 0.8012269938650307, 30: 0.8012269938650307, 31: 0.8012269938650307, 32: 0.9411042944785276, 33: 0.9288343558282208, 34: 0.9337423312883436, 35: 0.8012269938650307, 36: 0.8012269938650307, 37: 0.8012269938650307, 38: 0.8012269938650307, 39: 0.8012269938650307, 40: 0.9177914110429448, 41: 0.8012269938650307, 42: 0.9631901840490797, 43: 0.939877300613497, 44: 0.9165644171779141, 45: 0.8012269938650307, 46: 0.8012269938650307, 47: 0.8012269938650307, 48: 0.947239263803681, 49: 0.8012269938650307, 50: 0.8012269938650307, 51: 0.8012269938650307, 52: 0.943558282208589, 53: 0.8012269938650307, 54: 0.9226993865030675, 55: 0.9337423312883436, 56: 0.8012269938650307, 57: 0.9349693251533743, 58: 0.8012269938650307, 59: 0.8012269938650307, 60: 0.9386503067484663, 61: 0.8012269938650307, 62: 0.8012269938650307, 63: 0.9337423312883436, 64: 0.9582822085889571, 65: 0.8012269938650307, 66: 0.8012269938650307, 67: 0.9386503067484663, 68: 0.8012269938650307, 69: 0.8012269938650307, 70: 0.9386503067484663, 71: 0.8012269938650307, 72: 0.8012269938650307, 73: 0.8012269938650307, 74: 0.8012269938650307, 75: 0.8012269938650307, 76: 0.939877300613497, 77: 0.9214723926380368, 78: 0.8012269938650307, 79: 0.8012269938650307, 80: 0.9533742331288344, 81: 0.8012269938650307, 82: 0.8012269938650307, 83: 0.939877300613497, 84: 0.8012269938650307, 85: 0.939877300613497, 86: 0.8012269938650307, 87: 0.9374233128834356, 88: 0.9423312883435583, 89: 0.8012269938650307, 90: 0.8012269938650307, 91: 0.939877300613497, 92: 0.8012269938650307, 93: 0.9496932515337423, 94: 0.9374233128834356, 95: 0.9141104294478528, 96: 0.9423312883435583, 97: 0.9411042944785276, 98: 0.9226993865030675, 99: 0.9411042944785276, 100: 0.939877300613497}\n"
     ]
    }
   ],
   "source": [
    "print(accu2)"
   ]
  },
  {
   "cell_type": "code",
   "execution_count": 444,
   "metadata": {},
   "outputs": [
    {
     "data": {
      "image/png": "[encoded data removed]",
      "text/plain": [
       "<matplotlib.figure.Figure at 0x1172f3f98>"
      ]
     },
     "metadata": {},
     "output_type": "display_data"
    }
   ],
   "source": [
    "def plot(acc):\n",
    "    li = [0.2233128834355828] * 100\n",
    "    x = []\n",
    "    ui = []\n",
    "    for k,v in acc.items():\n",
    "        x.append(v)\n",
    "    for k,v in accu1.items():\n",
    "        ui.append(v)\n",
    "    plt.plot(ui)\n",
    "    plt.plot(x)\n",
    "    plt.title(\"Accuracy vs Epochs For MLP with 5 features and MLP with 6 features\")\n",
    "    plt.xlabel(\"Epochs\")\n",
    "    plt.ylabel(\"Accuracy\")\n",
    "    plt.legend(['5 features MLP', '6 features MLP'], loc='upper right')\n",
    "    plt.show()\n",
    "plot(accu2)"
   ]
  },
  {
   "cell_type": "markdown",
   "metadata": {},
   "source": [
    "The difference with the previous training with 5 features and the current training with 6 features and 5 hidden layers is that the accuracy initally had huge variations but soon the variations reduce"
   ]
  }
 ],
 "metadata": {
  "kernelspec": {
   "display_name": "Python 3",
   "language": "python",
   "name": "python3"
  },
  "language_info": {
   "codemirror_mode": {
    "name": "ipython",
    "version": 3
   },
   "file_extension": ".py",
   "mimetype": "text/x-python",
   "name": "python",
   "nbconvert_exporter": "python",
   "pygments_lexer": "ipython3",
   "version": "3.6.1"
  }
 },
 "nbformat": 4,
 "nbformat_minor": 2
}
