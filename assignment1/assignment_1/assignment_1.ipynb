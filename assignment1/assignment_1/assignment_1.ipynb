{
 "cells": [
  {
   "cell_type": "markdown",
   "metadata": {},
   "source": [
    "# <center> Neural Networks and Deep Learning (CSCI 5922)</center>\n",
    "# <center> Spring 2019 </center>"
   ]
  },
  {
   "cell_type": "markdown",
   "metadata": {},
   "source": [
    "**Name: Ganesh Chandra Satish**\n",
    "**collaboration with: Rahul Chowdhury**"
   ]
  },
  {
   "cell_type": "markdown",
   "metadata": {},
   "source": [
    "## Goal"
   ]
  },
  {
   "cell_type": "markdown",
   "metadata": {},
   "source": [
    "The goal of this assignment is to introduce neural networks in terms of ideas you are already familiar with:  linear regression and linear-threshold classification"
   ]
  },
  {
   "cell_type": "markdown",
   "metadata": {},
   "source": [
    "## Dataset"
   ]
  },
  {
   "cell_type": "markdown",
   "metadata": {},
   "source": [
    "You are given a dataset with 2 input variables ($x_1$, $x_2$) and an output variable ($y$)."
   ]
  },
  {
   "cell_type": "code",
   "execution_count": 391,
   "metadata": {
    "collapsed": true
   },
   "outputs": [],
   "source": [
    "from sklearn.datasets import make_regression\n",
    "from matplotlib import pyplot\n",
    "import numpy as np\n",
    "import os\n",
    "\n",
    "# Load data\n",
    "data = np.loadtxt(os.path.join('data', 'assign1_data.txt'))\n",
    "X = data[:,:2]\n",
    "y = data[:, 2]\n",
    "z = data[:, 3]"
   ]
  },
  {
   "cell_type": "markdown",
   "metadata": {},
   "source": [
    "## Part 1"
   ]
  },
  {
   "cell_type": "markdown",
   "metadata": {},
   "source": [
    "Write a program to find the least squares solution to $y = w_1 x_1 + w_2 x_2 + b$ for the above dataset. "
   ]
  },
  {
   "cell_type": "markdown",
   "metadata": {},
   "source": [
    "Complete the following function below and use it to answer questions (A) and (B). \n",
    "\n",
    "**Note:** Please do not change the interface of the given function."
   ]
  },
  {
   "cell_type": "code",
   "execution_count": 369,
   "metadata": {
    "collapsed": true
   },
   "outputs": [],
   "source": [
    "def lms(X, y):\n",
    "    \"\"\"\n",
    "    Finds the Least Mean Squares solution\n",
    "    \n",
    "    Parameters\n",
    "    ----------\n",
    "    X : NumPy array of features (size : no of examples X features)\n",
    "    y : Numpy array of output value 'y' (size : no of examples X 1)\n",
    "    \n",
    "    Returns\n",
    "    -------\n",
    "    w : solution array\n",
    "    \"\"\"\n",
    "    bias = np.ones((X.shape[0], 1))\n",
    "    XplusB = np.concatenate((X, bias), axis=1)\n",
    "    w = np.dot(np.linalg.inv(np.dot(np.transpose(XplusB),XplusB)),np.dot(np.transpose(XplusB),y))\n",
    "    return w"
   ]
  },
  {
   "cell_type": "markdown",
   "metadata": {},
   "source": [
    "(A) Report the values of $w_1$, $w_2$, and $b$."
   ]
  },
  {
   "cell_type": "code",
   "execution_count": 29,
   "metadata": {},
   "outputs": [
    {
     "name": "stdout",
     "output_type": "stream",
     "text": [
      "(100, 1)\n"
     ]
    },
    {
     "data": {
      "text/plain": [
       "array([-2.0442426 ,  3.99686017, -0.92429081])"
      ]
     },
     "execution_count": 29,
     "metadata": {},
     "output_type": "execute_result"
    }
   ],
   "source": [
    "lms(X, y)\n",
    "#The value of w1: -2.0442426\n",
    "#The value of w2: 3.99686017\n",
    "#The value of b: -0.92429081"
   ]
  },
  {
   "cell_type": "markdown",
   "metadata": {},
   "source": [
    "(B) What function or method did you use to find the least-squares solution?"
   ]
  },
  {
   "cell_type": "markdown",
   "metadata": {},
   "source": [
    "### I used the following functions to find the least squares solutions:\n",
    "#### 1. np.ones to create the bias matrix\n",
    "#### 2. np.concatenate to concatenate the feature matrix and the bias\n",
    "#### 3. np.dot to get the dot product of matrices\n",
    "#### 4. np.linalg.inv to get the inverse of matrix\n",
    "#### 5. np.transpose to get the transpose of the matrix"
   ]
  },
  {
   "cell_type": "markdown",
   "metadata": {},
   "source": [
    "## Part 2"
   ]
  },
  {
   "cell_type": "markdown",
   "metadata": {},
   "source": [
    "Using the LMS algorithm, write a program that determines the coefficients {w1,w2,b} via incremental updating, steepest descent, and multiple passes through the training data. You will need to experiment with updating rules (online, batch, minibatch), step sizes (i.e., learning rates), stopping criteria, etc. Experiment to find settings that lead to solutions with the fewest number of sweeps through the data."
   ]
  },
  {
   "cell_type": "markdown",
   "metadata": {},
   "source": [
    "Complete the following functions below and use them to answer questions (A), (B) and (C). You may find the shuffle function from scikit-learn useful. \n",
    "\n",
    "Use the following hyperparameters:\n",
    "\n",
    "Learning rates = [0.001, 0.05, 0.01, 0.05, 0.1, 0.3]\n",
    "\n",
    "MaxIter = [10, 50, 100, 500, 1000, 5000, 10000, 25000, 50000]\n",
    "\n",
    "**Note:** Please do not change the interface of the given functions."
   ]
  },
  {
   "cell_type": "code",
   "execution_count": 313,
   "metadata": {
    "collapsed": true
   },
   "outputs": [],
   "source": [
    "from sklearn.utils import shuffle\n",
    "\n",
    "def online_update(X, y, w, lr):\n",
    "    \"\"\"\n",
    "    One iteration of the online update over the entire dataset (one sweep of the dataset).\n",
    "    \n",
    "    Parameters\n",
    "    ----------\n",
    "    X : NumPy array of features (size : no of examples X features)\n",
    "    y : Numpy array of class labels (size : no of examples X 1)\n",
    "    w : array of coefficients from the previous iteration\n",
    "    \n",
    "    Returns\n",
    "    -------\n",
    "    w : Coefficients of the classifier (after updating)\n",
    "    \"\"\"\n",
    "    bias = np.ones((X.shape[0], 1))\n",
    "    XplusB = np.concatenate((X, bias), axis=1)\n",
    "    for i in range(len(XplusB)):\n",
    "        yhat = np.dot(w,XplusB[i].T)\n",
    "        err = (yhat - y[i])\n",
    "        w -= (err * lr * XplusB[i])\n",
    "    return w\n",
    "\n",
    "def batch_update(X, y, w, lr):\n",
    "    \"\"\"\n",
    "    One iteration of the batch update.\n",
    "    \n",
    "    Parameters\n",
    "    ----------\n",
    "    X : NumPy array of features (size : no of examples X features)\n",
    "    y : Numpy array of class labels (size : no of examples X 1)\n",
    "    w : array of coefficients from the previous iteration\n",
    "    \n",
    "    Returns\n",
    "    -------\n",
    "    w : Coefficients of the classifier (after updating)\n",
    "    \"\"\"\n",
    "    bias = np.ones((X.shape[0], 1))\n",
    "    XplusB = np.concatenate((X, bias), axis=1)\n",
    "    yhat = np.dot(XplusB,w)\n",
    "    err = yhat - y\n",
    "    w1 = np.dot(XplusB.T,err)/len(XplusB)\n",
    "    w_new = w - (lr * w1)\n",
    "    return list(w_new)\n",
    "\n",
    "def mini_batch_update(X, y, w, lr, batch_size):\n",
    "    \"\"\"\n",
    "    One iteration of the mini-batch update over the entire dataset (one sweep of the dataset).\n",
    "    \n",
    "    Parameters\n",
    "    ----------\n",
    "    X : NumPy array of features (size : no of examples X features)\n",
    "    y : Numpy array of class labels (size : no of examples X 1)\n",
    "    w : array of coefficients from the previous iteration\n",
    "    batch_size : size of the batch for gradient update\n",
    "    \n",
    "    Returns\n",
    "    -------\n",
    "    w : Coefficients of the classifier (after updating)\n",
    "    \"\"\"\n",
    "    w_new = w\n",
    "    for i in range(0, len(X) - batch_size, batch_size):\n",
    "        w_new = batch_update(X[i:i + batch_size], y[i:i + batch_size], w_new, lr)\n",
    "    return w_new\n",
    "\n",
    "def lms_grad_desc(X, y, maxIter, alpha, update, *batch_size):\n",
    "    \"\"\"\n",
    "    Implements the LMS with gradient descent.\n",
    "    \n",
    "    Parameters\n",
    "    ----------\n",
    "    X : NumPy array of features (size : no of examples X features)\n",
    "    y : Numpy array of class labels (size : no of examples X 1)\n",
    "    maxIter : Maximum number of iterations allowed\n",
    "    alpha : Learning rate\n",
    "    update : update function to utilize (one of online, batch, mini-batch)\n",
    "    batch_size : number of examples in a batch (only useful when update = mini_batch_update)\n",
    "    \n",
    "    Returns\n",
    "    -------\n",
    "    w : Coefficients of the classifier (after updating)\n",
    "    \n",
    "    Note : *batch_size is an optional argument and only to be used when doing mini-batch Gradient Descent \n",
    "    \"\"\"\n",
    "    lr = alpha\n",
    "    w = [0,0,0]\n",
    "    for i in range(maxIter):\n",
    "        w = update(X, y, w, alpha, *batch_size)\n",
    "    return w"
   ]
  },
  {
   "cell_type": "code",
   "execution_count": 322,
   "metadata": {
    "collapsed": true
   },
   "outputs": [],
   "source": [
    "#The cost function\n",
    "def error_nn(X,y,w):\n",
    "    err = 0\n",
    "    for i in range(len(X)):\n",
    "        err += ((((X[i][0] * w[0]) + (X[i][1] * w[1]) + w[2]) - y[i]) ** 2)/(2 * len(X))\n",
    "    return err"
   ]
  },
  {
   "cell_type": "markdown",
   "metadata": {},
   "source": [
    "(A) Report the values of $w_1$, $w_2$, and $b$. "
   ]
  },
  {
   "cell_type": "code",
   "execution_count": 300,
   "metadata": {},
   "outputs": [
    {
     "name": "stdout",
     "output_type": "stream",
     "text": [
      "For mini_batch_update, the weights are: w1 = -2.0557048835609355, w2 = 3.965031270395268, b = -0.9056170741452154\n"
     ]
    }
   ],
   "source": [
    "w = lms_grad_desc(X, y, 1000, 0.01, mini_batch_update, 10)\n",
    "print(\"For mini_batch_update, the weights are: w1 = {0}, w2 = {1}, b = {2}\".format(w[0],w[1],w[2]))"
   ]
  },
  {
   "cell_type": "code",
   "execution_count": 304,
   "metadata": {},
   "outputs": [
    {
     "name": "stdout",
     "output_type": "stream",
     "text": [
      "For online_update, the weights are: w1 = -2.041466416889303, w2 = 4.0011969052109775, b = -0.9216826914982416\n"
     ]
    }
   ],
   "source": [
    "w = lms_grad_desc(X, y, 1000, 0.01, online_update)\n",
    "print(\"For online_update, the weights are: w1 = {0}, w2 = {1}, b = {2}\".format(w[0],w[1],w[2]))"
   ]
  },
  {
   "cell_type": "code",
   "execution_count": 305,
   "metadata": {},
   "outputs": [
    {
     "name": "stdout",
     "output_type": "stream",
     "text": [
      "For batch_update, the weights are: w1 = -2.0432272821414523, w2 = 3.990710131005567, b = -0.921645354049784\n"
     ]
    }
   ],
   "source": [
    "w = lms_grad_desc(X, y, 10000, 0.01, batch_update)\n",
    "print(\"For batch_update, the weights are: w1 = {0}, w2 = {1}, b = {2}\".format(w[0],w[1],w[2]))"
   ]
  },
  {
   "cell_type": "markdown",
   "metadata": {},
   "source": [
    "(B) What settings worked well for you:  online vs. batch vs. minibatch? What step size? How did you decide to terminate?"
   ]
  },
  {
   "cell_type": "markdown",
   "metadata": {},
   "source": [
    "I decided to use the above mentioned epoch list and alpha list and tested to find the best alpha and epoch based on the combinationation for which the error was minimum. With that, the results were:\n",
    "\n",
    "For online update:\n",
    "Best Weights and bias: [-2.04402426  3.99722808 -0.92410096]\n",
    "Best Alpha: 0.001\n",
    "Best Epoch: 5000\n",
    "Minimum Error: 0.019704536797008485\n",
    "\n",
    "For batch update:\n",
    "Best Weights and bias: [-2.04424259513769, 3.9968601686592633, -0.9242908118675359]\n",
    "Best Alpha: 0.05\n",
    "Best Epoch: 25000\n",
    "Minimum Error: 0.0197044217069761\n",
    "\n",
    "For mini batch update:\n",
    "Best Weights and bias: [-2.0580656769274883, 3.978207779202587, -0.9072980057407031]\n",
    "Best Alpha: 0.01\n",
    "Best Epoch: 1000\n",
    "Minimum Error: 0.01973044793200897\n",
    "\n",
    "The code that calculated these values is present below"
   ]
  },
  {
   "cell_type": "code",
   "execution_count": 325,
   "metadata": {
    "collapsed": true
   },
   "outputs": [],
   "source": [
    "lr= [0.001, 0.05, 0.01, 0.05, 0.1, 0.3]\n",
    "mi = [10, 50, 100, 500, 1000, 5000, 10000, 25000, 50000]\n",
    "di = {}\n",
    "for l in lr:\n",
    "    di[l] = {}\n",
    "    for m in mi:\n",
    "        di[l][m] = lms_grad_desc(X, y, m, l, online_update)"
   ]
  },
  {
   "cell_type": "code",
   "execution_count": 327,
   "metadata": {},
   "outputs": [],
   "source": [
    "lr= [0.001, 0.05, 0.01, 0.05, 0.1, 0.3]\n",
    "mi = [10, 50, 100, 500, 1000, 5000, 10000, 25000, 50000]\n",
    "di = {}\n",
    "for l in lr:\n",
    "    di[l] = {}\n",
    "    for m in mi:\n",
    "        di[l][m] = lms_grad_desc(X, y, m, l, batch_update)"
   ]
  },
  {
   "cell_type": "code",
   "execution_count": 329,
   "metadata": {
    "collapsed": true
   },
   "outputs": [],
   "source": [
    "lr= [0.001, 0.05, 0.01, 0.05, 0.1, 0.3]\n",
    "mi = [10, 50, 100, 500, 1000, 5000, 10000, 25000, 50000]\n",
    "di = {}\n",
    "for l in lr:\n",
    "    di[l] = {}\n",
    "    for m in mi:\n",
    "        di[l][m] = lms_grad_desc(X, y, m, l, mini_batch_update,10)"
   ]
  },
  {
   "cell_type": "code",
   "execution_count": 330,
   "metadata": {},
   "outputs": [
    {
     "name": "stdout",
     "output_type": "stream",
     "text": [
      "[-2.0580656769274883, 3.978207779202587, -0.9072980057407031] 0.1 1000 0.01973044793200897\n"
     ]
    }
   ],
   "source": [
    "err = 9999\n",
    "lrans = 0\n",
    "ite = 0\n",
    "w = []\n",
    "for lr,ites in di.items():\n",
    "    for k,v in ites.items():\n",
    "        ans = error_nn(X,y,v)\n",
    "        if ans < err:\n",
    "            err = ans\n",
    "            w = v\n",
    "            lrans = lr\n",
    "            ite = k\n",
    "print(w,lrans,ite,err)"
   ]
  },
  {
   "cell_type": "markdown",
   "metadata": {},
   "source": [
    "(C) Make a graph of error on the entire data set as a function of epoch. An epoch is a complete sweep through all the data."
   ]
  },
  {
   "cell_type": "markdown",
   "metadata": {},
   "source": [
    "Please find the graph below. The below code has been used to generate the graph. I have used epoch values of 10, 50, 100, 500, 1000, 5000, 10000, 25000 and 50000 as the data points for epochs."
   ]
  },
  {
   "cell_type": "code",
   "execution_count": 348,
   "metadata": {},
   "outputs": [],
   "source": [
    "mi = [10, 50, 100, 500, 1000, 5000, 10000, 25000, 50000]\n",
    "online2 = {}\n",
    "batch2 = {}\n",
    "mini2 = {}\n",
    "#lms_grad_desc(X, y, maxIter, alpha, update, *batch_size):\n",
    "for i in mi:\n",
    "    temp1 = lms_grad_desc(X, y, i, 0.01, online_update)\n",
    "    temp2 = lms_grad_desc(X, y, i, 0.01, batch_update)\n",
    "    temp3 = lms_grad_desc(X, y, i, 0.01, mini_batch_update,10)\n",
    "    online2[i] = error_nn(X,y,temp1)\n",
    "    batch2[i] = error_nn(X,y,temp2)\n",
    "    mini2[i] = error_nn(X,y,temp3)"
   ]
  },
  {
   "cell_type": "code",
   "execution_count": 388,
   "metadata": {
    "collapsed": true
   },
   "outputs": [],
   "source": [
    "import matplotlib\n",
    "matplotlib.rc('figure', figsize = (14, 7))\n",
    "import matplotlib.pyplot as plt\n",
    "def plot(o,b,m):\n",
    "    x = []\n",
    "    y = []\n",
    "    for k,v in o.items():\n",
    "        x.append(k)\n",
    "        y.append(v)\n",
    "    plt.plot(x, y)\n",
    "    x = []\n",
    "    y = []\n",
    "    for k,v in b.items():\n",
    "        x.append(k)\n",
    "        y.append(v) \n",
    "    plt.plot(x, y)\n",
    "    x = []\n",
    "    y = []\n",
    "    for k,v in m.items():\n",
    "        x.append(k)\n",
    "        y.append(v)\n",
    "    plt.plot(x, y)\n",
    "    plt.title(\"Error vs Epochs\")\n",
    "    plt.xlabel(\"epochs\")\n",
    "    plt.ylabel(\"Error\")\n",
    "    plt.legend(['Online Update', 'Batch update', 'Mini-Batch update'], loc='upper right')\n",
    "    plt.show()"
   ]
  },
  {
   "cell_type": "code",
   "execution_count": 389,
   "metadata": {},
   "outputs": [
    {
     "data": {
      "image/png": "[encoded data removed]",
      "text/plain": [
       "<matplotlib.figure.Figure at 0x11e3949b0>"
      ]
     },
     "metadata": {},
     "output_type": "display_data"
    }
   ],
   "source": [
    "plot(online2,batch2,mini2)"
   ]
  },
  {
   "cell_type": "markdown",
   "metadata": {},
   "source": [
    "## Part 3"
   ]
  },
  {
   "cell_type": "markdown",
   "metadata": {},
   "source": [
    "The data set from a regression problem can be converted into a classification problem simply by using the sign of (+ or -) as representing one of two classes. In the data set used in Part 1 and 2, you'll see a variable that represents this binary (0 or 1) class.\n",
    "\n",
    "Use the perceptron learning rule to solve for the coefficients {$w_1$, $w_2$, $b$} of this classification problem.   \n",
    "\n",
    "Two warnings: First, your solution to Part 3 should require only a few lines of code changed from the code you wrote for Part 2. Second, the Perceptron algorithm will not converge if there is no exact solution to the training data. It will jitter among coefficients that all yield roughly equally good solutions."
   ]
  },
  {
   "cell_type": "markdown",
   "metadata": {},
   "source": [
    "Complete the following functions below and use them to answer questions (A) and (B). \n",
    "\n",
    "**Note:** Please do not change the interface of the given functions."
   ]
  },
  {
   "cell_type": "code",
   "execution_count": 377,
   "metadata": {
    "collapsed": true
   },
   "outputs": [],
   "source": [
    "def perceptron_update(X, y, w, lr):\n",
    "    \"\"\"\n",
    "    One iteration of the Perceptron update over the entire dataset (not just a single point).\n",
    "    \n",
    "    Parameters\n",
    "    ----------\n",
    "    X : NumPy array of features (size : no of examples X features)\n",
    "    y : Numpy array of class labels (size : no of examples X 1)\n",
    "    w : array of coefficients from the previous iteration\n",
    "    \n",
    "    Returns\n",
    "    -------\n",
    "    w : Coefficients of the classifier (after updating)\n",
    "    incorrect : Incorrectly classified examples\n",
    "    \"\"\"\n",
    "    bias = np.ones((X.shape[0], 1))\n",
    "    XplusB = np.concatenate((X, bias), axis=1)\n",
    "    w1,w2,b = w[0],w[1],w[2]\n",
    "    incorrect = []\n",
    "    for i in range(len(XplusB)):\n",
    "        ytemp = np.dot([w1,w2,b],XplusB[i].T)\n",
    "        yhat = 0\n",
    "        if ytemp > 0:\n",
    "            yhat = 1\n",
    "        err = (yhat - y[i])\n",
    "        if err != 0:\n",
    "            incorrect.append([XplusB[i][0],XplusB[i][1]])\n",
    "        b = b - (lr * err)\n",
    "        w1 = w1 - (lr * err * XplusB[i][0])\n",
    "        w2 = w2 - (lr * err * XplusB[i][1])\n",
    "    return ([w1,w2,b],incorrect)\n",
    "\n",
    "def perceptron(X, y, maxIter, alpha):\n",
    "    \"\"\"\n",
    "    Implements the Perceptron algorithm.\n",
    "    \n",
    "    Parameters\n",
    "    ----------\n",
    "    X : NumPy array of features (size : no of examples X features)\n",
    "    y : Numpy array of class labels (size : no of examples X 1)\n",
    "    maxIter : The maximum number of iterations allowed \n",
    "    alpha : Learning Rate\n",
    "    \n",
    "    Returns\n",
    "    -------\n",
    "    w : Coefficients of the classifier\n",
    "    incorrect : Incorrectly classified examples on termination\n",
    "    \"\"\"\n",
    "    w = [0,0,0]\n",
    "    incorrect = []\n",
    "    for i in range(maxIter):\n",
    "        temp = perceptron_update(X, y, w, alpha)\n",
    "        w = temp[0]\n",
    "        incorrect = temp[1]\n",
    "    return (w,incorrect)"
   ]
  },
  {
   "cell_type": "markdown",
   "metadata": {},
   "source": [
    "(A) Report the values of coefficients $w_1$, $w_2$, and $b$."
   ]
  },
  {
   "cell_type": "markdown",
   "metadata": {},
   "source": [
    "w1: -0.02349469999999508\n",
    "w2: 0.038361000000002726\n",
    "The bias is: -0.007\n",
    "The minimum error count was: 5"
   ]
  },
  {
   "cell_type": "code",
   "execution_count": 392,
   "metadata": {},
   "outputs": [
    {
     "name": "stdout",
     "output_type": "stream",
     "text": [
      "5\n"
     ]
    },
    {
     "data": {
      "text/plain": [
       "[-0.02349469999999508, 0.038361000000002726, -0.007]"
      ]
     },
     "execution_count": 392,
     "metadata": {},
     "output_type": "execute_result"
    }
   ],
   "source": [
    "ty = perceptron(X, z, 5000, 0.001)\n",
    "ty[0]"
   ]
  },
  {
   "cell_type": "markdown",
   "metadata": {},
   "source": [
    "(B) Make a graph of the accuracy (% correct classification) on the training set as a function of epoch."
   ]
  },
  {
   "cell_type": "markdown",
   "metadata": {},
   "source": [
    "Plese find the graph below. The graph has been generated for alpha of 0.001. The reason is, i got the least number of incorrect answers when i used alpha 0.001 and epoch of 5000. The two cells below were used to find the best alpha and epoch. The next two cells were used to generate the graph"
   ]
  },
  {
   "cell_type": "code",
   "execution_count": 381,
   "metadata": {},
   "outputs": [],
   "source": [
    "lr= [0.001, 0.05, 0.01, 0.05, 0.1, 0.3]\n",
    "mi = [10, 50, 100, 500, 1000, 5000, 10000, 25000, 50000]\n",
    "incorrect = 9999\n",
    "blr = 0\n",
    "bm = 0\n",
    "for l in lr:\n",
    "    for m in mi:\n",
    "        temp = perceptron(X, z, m, l)\n",
    "        if len(temp[1]) < incorrect:\n",
    "            blr = l\n",
    "            bm = m\n",
    "            incorrect = len(temp[1])"
   ]
  },
  {
   "cell_type": "code",
   "execution_count": 382,
   "metadata": {},
   "outputs": [
    {
     "name": "stdout",
     "output_type": "stream",
     "text": [
      "5 0.001 5000\n"
     ]
    }
   ],
   "source": [
    "print(incorrect,blr,bm)"
   ]
  },
  {
   "cell_type": "code",
   "execution_count": 384,
   "metadata": {},
   "outputs": [],
   "source": [
    "mi = [10, 50, 100, 500, 1000, 5000, 10000, 25000, 50000]\n",
    "per = {}\n",
    "for i in mi:\n",
    "    temp = perceptron(X, z, i, 0.001)\n",
    "    per[i] = (len(X) - len(temp[1])) / len(X)"
   ]
  },
  {
   "cell_type": "code",
   "execution_count": 385,
   "metadata": {},
   "outputs": [
    {
     "data": {
      "image/png": "[encoded data removed]",
      "text/plain": [
       "<matplotlib.figure.Figure at 0x11def9b38>"
      ]
     },
     "metadata": {},
     "output_type": "display_data"
    }
   ],
   "source": [
    "import pylab as plt\n",
    "x = []\n",
    "y = []\n",
    "z = [1,2,3,4,5,6,7,8,9]\n",
    "for k,v in per.items():\n",
    "    x.append(k)\n",
    "    y.append(v)\n",
    "plt.bar(z,y,align='center')\n",
    "plt.xticks(z, x)\n",
    "plt.xlabel(\"Number of Data points in training data\")\n",
    "plt.ylabel(\"Accuracy in percentage\")\n",
    "plt.show()"
   ]
  },
  {
   "cell_type": "markdown",
   "metadata": {},
   "source": [
    "## Part 4"
   ]
  },
  {
   "cell_type": "markdown",
   "metadata": {},
   "source": [
    "In machine learning, we really want to train a model based on some data and then expect the model to do well on \"out of sample\" data. Try this with the code you wrote for Part 3:  Train the model on the first {5, 10, 25, 50, 75} examples in the data set and test the model on the final 25 examples."
   ]
  },
  {
   "cell_type": "markdown",
   "metadata": {},
   "source": [
    "Complete the following function below and use it to answer (A). \n",
    "\n",
    "**Note:** Please do not change the interface of the given function."
   ]
  },
  {
   "cell_type": "code",
   "execution_count": 287,
   "metadata": {
    "collapsed": true
   },
   "outputs": [],
   "source": [
    "def classify(X, y, w):\n",
    "    \"\"\"\n",
    "    Use this function to classify examples in the test set\n",
    "    \n",
    "    Parameters\n",
    "    ----------\n",
    "    X : Test set features\n",
    "    y : Test set labels\n",
    "    w : Perceptron coefficients\n",
    "    \n",
    "    Returns\n",
    "    -------\n",
    "    correct : number of correctly classified examples\n",
    "    \"\"\"\n",
    "    #train_data_size = 5\n",
    "    correct = 0\n",
    "    bias = np.ones((X.shape[0], 1))\n",
    "    XplusB = np.concatenate((X, bias), axis=1)\n",
    "    for i in range(len(XplusB)):\n",
    "        ytemp = np.dot(w,XplusB[i].T)\n",
    "        yhat = 0\n",
    "        if ytemp >= 0:\n",
    "            yhat = 1\n",
    "        \n",
    "        if yhat == y[i]:\n",
    "            correct += 1\n",
    "    return correct"
   ]
  },
  {
   "cell_type": "code",
   "execution_count": 288,
   "metadata": {
    "collapsed": true
   },
   "outputs": [],
   "source": [
    "def train75(X, y, w,train_data_size):    \n",
    "    xtrain = X[:train_data_size + 1]\n",
    "    ytrain = y[:train_data_size + 1]\n",
    "    xtest = X[(len(X) - 25):]\n",
    "    ytest = y[(len(y) - 25):]\n",
    "    ans = perceptron(xtrain, ytrain, 50000, 0.01)\n",
    "    w = ans[0]\n",
    "    cor = classify(xtest, ytest, w)\n",
    "    return cor"
   ]
  },
  {
   "cell_type": "markdown",
   "metadata": {},
   "source": [
    "How does performance on the test set vary with the amount of training data? Make a bar graph showing performance for each of the different training set sizes."
   ]
  },
  {
   "cell_type": "markdown",
   "metadata": {},
   "source": [
    "The accuracy initially increses and later stays the same with the increse in the training data. PLease find the graph below"
   ]
  },
  {
   "cell_type": "code",
   "execution_count": 289,
   "metadata": {},
   "outputs": [],
   "source": [
    "nans = {}\n",
    "tsize = [5, 10, 25, 50, 75]\n",
    "for i in tsize:\n",
    "    nans[i] = train75(X, z, [0,0,0],i) / 25"
   ]
  },
  {
   "cell_type": "code",
   "execution_count": 292,
   "metadata": {},
   "outputs": [
    {
     "data": {
      "image/png": "[encoded data removed]",
      "text/plain": [
       "<matplotlib.figure.Figure at 0x11e0fe898>"
      ]
     },
     "metadata": {},
     "output_type": "display_data"
    }
   ],
   "source": [
    "import pylab as plt\n",
    "x = []\n",
    "y = []\n",
    "z = [1,2,3,4,5]\n",
    "for k,v in nans.items():\n",
    "    x.append(k)\n",
    "    y.append(v * 100)\n",
    "plt.bar(z,y,align='center')\n",
    "plt.xticks(z, x)\n",
    "plt.xlabel(\"Number of Data points in training data\")\n",
    "plt.ylabel(\"Accuracy in percentage\")\n",
    "plt.show()"
   ]
  },
  {
   "cell_type": "markdown",
   "metadata": {},
   "source": [
    "### It can be seen from the above graph and the values prited after, the accuracy gradually increases as the training data increses, and eventually becomes a constant."
   ]
  }
 ],
 "metadata": {
  "kernelspec": {
   "display_name": "Python 3",
   "language": "python",
   "name": "python3"
  },
  "language_info": {
   "codemirror_mode": {
    "name": "ipython",
    "version": 3
   },
   "file_extension": ".py",
   "mimetype": "text/x-python",
   "name": "python",
   "nbconvert_exporter": "python",
   "pygments_lexer": "ipython3",
   "version": "3.6.1"
  }
 },
 "nbformat": 4,
 "nbformat_minor": 2
}
