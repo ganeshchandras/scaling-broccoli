{
 "cells": [
  {
   "cell_type": "markdown",
   "metadata": {},
   "source": [
    "# MLP using Automatic Differentiation\n",
    "\n",
    "***\n",
    "**Name: Ganesh Chandra Satish in collaboration with Rahul Chowdhury**: \n",
    "***\n",
    "\n",
    "## Goal\n",
    "\n",
    "The goal of this assignment is to build 1 layer MLP network using the framework that you built in **Assignment 3**."
   ]
  },
  {
   "cell_type": "code",
   "execution_count": 4,
   "metadata": {
    "collapsed": true
   },
   "outputs": [],
   "source": [
    "from tensor import Tensor\n",
    "import numpy as np\n",
    "from sklearn.datasets import make_classification"
   ]
  },
  {
   "cell_type": "markdown",
   "metadata": {},
   "source": [
    "### 1. Implementing the model"
   ]
  },
  {
   "cell_type": "code",
   "execution_count": 28,
   "metadata": {
    "collapsed": true
   },
   "outputs": [],
   "source": [
    "class MLP(object):\n",
    "    def __init__(self, n_in, n_hid, n_out):\n",
    "        \"\"\"\n",
    "        Initialize Layers (hidden and output) of the network.\n",
    "        Note: Tensors are used here instead of ndarrays, operations\n",
    "        on tensors such as dot, add, subtract, pow will allow us\n",
    "        to keep track of the computational graph, thereby making\n",
    "        gradient computation easier using a simple call to the \n",
    "        loss (MSE in this case).\n",
    "        \n",
    "        params:\n",
    "        n_in (int): Number of input neurons.\n",
    "        n_hid (int): Number of neurons in hidden layer.\n",
    "        n_out (int): Number of neurons in output layer. \n",
    "        \"\"\"\n",
    "\n",
    "        self.l1 = Tensor(np.random.randn(n_in, n_hid))\n",
    "        self.l2 = Tensor(np.random.randn(n_hid, n_out))\n",
    "\n",
    "    def forward(self, X):\n",
    "        \"\"\"\n",
    "        Implement the forward pass.\n",
    "\n",
    "        params:\n",
    "        X (NxM Tensor):\n",
    "            M dimensional input to be feed forward to the network.\n",
    "\n",
    "        returns:\n",
    "\n",
    "        y_hat (1xN Tensor): activations of the output layer.\n",
    "        \"\"\"\n",
    "        # TO-DO\n",
    "        # Obtain final layer activations using tensors.\n",
    "        # Unlike Assignment 3, you do not need to hold intermediate\n",
    "        # values here as the AD architecture will build the computational\n",
    "        # graph you.\n",
    "        value1 = X.dot(self.l1).relu()\n",
    "        y_hat = value1.dot(self.l2).relu()\n",
    "        return y_hat\n",
    "\n",
    "    def update(self, step_size):\n",
    "        \"\"\"\n",
    "        Implement the update rule for network weights and biases.\n",
    "\n",
    "        return:\n",
    "\n",
    "        none.\n",
    "        \"\"\"\n",
    "        # TO-DO\n",
    "        self.l1.value = self.l1.value - (step_size * self.l1.grad)\n",
    "        self.l2.value = self.l2.value - (step_size * self.l2.grad)\n",
    "        \n",
    "    def zero_grad(self):\n",
    "        \"\"\"\n",
    "        Resets gradients for each layer defined in\n",
    "        the constructor.\n",
    "        \"\"\"\n",
    "        self.l1.zero_grad()\n",
    "        self.l2.zero_grad()"
   ]
  },
  {
   "cell_type": "markdown",
   "metadata": {},
   "source": [
    "### 2. Train the model "
   ]
  },
  {
   "cell_type": "code",
   "execution_count": 142,
   "metadata": {
    "collapsed": true
   },
   "outputs": [],
   "source": [
    "def train(model, X, y, epochs, lr, batch_size):\n",
    "    \"\"\"\n",
    "    Implement the train loop.\n",
    "    Make sure gradients are reset after each call to forward.\n",
    "    \n",
    "    params:\n",
    "    model (MLP): 1-hidden-layer MLP model to be trained.\n",
    "    X (Nx5 ndarray): Training inputs.\n",
    "    y (Nx1 ndarray): Groundtruth labels.\n",
    "    epochs (int): number of epochs for training\n",
    "    lr (float32): Learning-rate/Step-size for gradient descent. \n",
    "    \n",
    "    returns:\n",
    "    Implementation choice.\n",
    "    \"\"\"\n",
    "    # TO-DO\n",
    "    # For each mini batch, do the following:\n",
    "    # 1. Obtain predictions using forward().\n",
    "    # 2. Compute MSE loss.\n",
    "    # 3. Accumulate layer gradients using the backward call\n",
    "    #    on loss.\n",
    "    # 4. update() layer weights using gradient descent.\n",
    "    #   NOTE: you do not need to maintain computational\n",
    "    #\n",
    "    mse_list = []\n",
    "    for j in range(epochs):\n",
    "        temp_mse = []\n",
    "        for i in range(0, len(X) - batch_size, batch_size):\n",
    "            X_t = Tensor(X[i:i + batch_size])\n",
    "            Y_t = Tensor(y[i:i + batch_size])\n",
    "            model.zero_grad()\n",
    "            yhat = model.forward(X_t)\n",
    "            mse = (yhat - Y_t).pow(2).mean()\n",
    "            temp_mse.append(mse.value[0])\n",
    "            mse.backward()\n",
    "            model.update(lr)\n",
    "        mse_list.append(sum(temp_mse)/len(temp_mse))\n",
    "    return mse_list\n",
    "            "
   ]
  },
  {
   "cell_type": "markdown",
   "metadata": {},
   "source": [
    "### 3. Experiment\n",
    "***\n",
    "\n",
    "**Part 3.A**  \n",
    "\n",
    "Create a model with $I = 5$ inputs, $H = 100$ and $O = 1$ output neuron. Train the model for 100 epochs using the dataset below. Plot the MSE loss for each epoch. You do not need to threshold/binarize the outputs."
   ]
  },
  {
   "cell_type": "code",
   "execution_count": 143,
   "metadata": {
    "collapsed": true
   },
   "outputs": [],
   "source": [
    "# Do-not modify this.\n",
    "# Load dataset.\n",
    "X, y = np.load(\"data/X.npy\"), np.load(\"data/y.npy\")"
   ]
  },
  {
   "cell_type": "code",
   "execution_count": 144,
   "metadata": {
    "collapsed": true
   },
   "outputs": [],
   "source": [
    "# Part 3.A\n",
    "model = MLP(5, 100, 1)"
   ]
  },
  {
   "cell_type": "code",
   "execution_count": 145,
   "metadata": {
    "collapsed": true
   },
   "outputs": [],
   "source": [
    "mse_list = train(model, X, y, 100, 0.00001, 10)"
   ]
  },
  {
   "cell_type": "code",
   "execution_count": 146,
   "metadata": {},
   "outputs": [
    {
     "data": {
      "image/png": "[encoded data removed]",
      "text/plain": [
       "<matplotlib.figure.Figure at 0x1163f9198>"
      ]
     },
     "metadata": {},
     "output_type": "display_data"
    }
   ],
   "source": [
    "from matplotlib import pyplot as plt\n",
    "import matplotlib\n",
    "matplotlib.rc('figure', figsize = (14, 7))\n",
    "def plot1(acc):\n",
    "    plt.plot(list(range(100)),acc)\n",
    "    plt.title(\"Number of epochs vs MSE\")\n",
    "    plt.xlabel(\"Number of Epochs\")\n",
    "    plt.ylabel(\"MSE\")\n",
    "    plt.show()\n",
    "plot1(mse_list)"
   ]
  },
  {
   "cell_type": "markdown",
   "metadata": {},
   "source": [
    "**Part 3.B**\n",
    "\n",
    "Modify the `train()` to `train_decay()` such that learning rate decays after a condition has been met. For example: \n",
    "1. If running loss stays with a limit for 'e' number of epochs.\n",
    "2. Or a constant weight decay after 'e' number of epochs.\n",
    "\n",
    "Plot MSE loss for **3.A and 3.B** on the same graph."
   ]
  },
  {
   "cell_type": "markdown",
   "metadata": {},
   "source": [
    "### In train_decay, I have used the decay parameter to specify the number of epochs after which the lr has to be decreased by a factor of 10"
   ]
  },
  {
   "cell_type": "code",
   "execution_count": 147,
   "metadata": {
    "collapsed": true
   },
   "outputs": [],
   "source": [
    "def train_decay(model, X, y, epochs, lr,decay, batch_size):\n",
    "    mse_list = []\n",
    "    for j in range(epochs):\n",
    "        if ((j % decay) == 0) and (j != 0):\n",
    "            lr = lr / 10\n",
    "        temp_mse = []\n",
    "        for i in range(0, len(X) - batch_size, batch_size):\n",
    "            X_t = Tensor(X[i:i + batch_size])\n",
    "            Y_t = Tensor(y[i:i + batch_size])\n",
    "            model.zero_grad()\n",
    "            yhat = model.forward(X_t)\n",
    "            mse = (yhat - Y_t).pow(2).mean()\n",
    "            temp_mse.append(mse.value[0])\n",
    "            mse.backward()\n",
    "            model.update(lr)\n",
    "        mse_list.append(sum(temp_mse)/len(temp_mse))\n",
    "    return mse_list"
   ]
  },
  {
   "cell_type": "code",
   "execution_count": 151,
   "metadata": {
    "collapsed": true
   },
   "outputs": [],
   "source": [
    "model2 = MLP(5, 100, 1)\n",
    "mse_list2 = train_decay(model2, X, y, 100, 0.00001,20, 10)"
   ]
  },
  {
   "cell_type": "markdown",
   "metadata": {},
   "source": [
    "### The below plot is for the mse of the train_decay function with respect to number of the epochs, the plot of train mse and train_decay mse on the same graph is furthur below. This is to show the variation of values only for train_decay mse"
   ]
  },
  {
   "cell_type": "code",
   "execution_count": 152,
   "metadata": {},
   "outputs": [
    {
     "data": {
      "image/png": "[encoded data removed]",
      "text/plain": [
       "<matplotlib.figure.Figure at 0x1164d0278>"
      ]
     },
     "metadata": {},
     "output_type": "display_data"
    }
   ],
   "source": [
    "plot1(mse_list2)"
   ]
  },
  {
   "cell_type": "code",
   "execution_count": 153,
   "metadata": {},
   "outputs": [
    {
     "data": {
      "image/png": "[encoded data removed]",
      "text/plain": [
       "<matplotlib.figure.Figure at 0x1165649e8>"
      ]
     },
     "metadata": {},
     "output_type": "display_data"
    }
   ],
   "source": [
    "def plot2(mse_list,mse_list2):\n",
    "    plt.plot(list(range(100)),mse_list)\n",
    "    plt.plot(list(range(100)),mse_list2)\n",
    "    plt.title(\"Number of epochs vs MSE\")\n",
    "    plt.xlabel(\"Number of Epochs\")\n",
    "    plt.ylabel(\"MSE\")\n",
    "    plt.legend(['train', 'train decay'], loc='upper right')\n",
    "    plt.show()\n",
    "plot2(mse_list,mse_list2)"
   ]
  },
  {
   "cell_type": "code",
   "execution_count": null,
   "metadata": {
    "collapsed": true
   },
   "outputs": [],
   "source": []
  }
 ],
 "metadata": {
  "kernelspec": {
   "display_name": "Python 3",
   "language": "python",
   "name": "python3"
  },
  "language_info": {
   "codemirror_mode": {
    "name": "ipython",
    "version": 3
   },
   "file_extension": ".py",
   "mimetype": "text/x-python",
   "name": "python",
   "nbconvert_exporter": "python",
   "pygments_lexer": "ipython3",
   "version": "3.6.1"
  }
 },
 "nbformat": 4,
 "nbformat_minor": 2
}
